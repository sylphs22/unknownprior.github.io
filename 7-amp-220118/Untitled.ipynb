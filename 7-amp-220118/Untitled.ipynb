{
 "cells": [
  {
   "cell_type": "code",
   "execution_count": 1,
   "metadata": {
    "collapsed": true
   },
   "outputs": [],
   "source": [
    "import xgboost as xgb\n",
    "import pandas as pd\n",
    "import numpy as np\n",
    "import schedule\n",
    "import time\n",
    "import random\n",
    "\n",
    "from sklearn import datasets, linear_model\n",
    "from sklearn.linear_model import Lasso\n",
    "\n",
    "from sklearn.externals import joblib\n",
    "\n",
    "def mm(x,a=2,b = 0.5):\n",
    "    y = a*pow(x,b)  \n",
    "    return y"
   ]
  },
  {
   "cell_type": "code",
   "execution_count": 2,
   "metadata": {},
   "outputs": [],
   "source": [
    "df_read = pd.read_csv('export.csv')\n",
    "column_itunes = ['artist_id', 'trend', 'track_id', 'paid_youtube_impressions',\n",
    "   'paid_youtube_views', 'paid_facebook_clicks',\n",
    "   'paid_facebook_impressions', 'paid_twitter_impressions',\n",
    "   'paid_facebook_video', 'paid_facebook_instagram_video_impressions',\n",
    "   'paid_facebook_instagram_post_impressions', 'paid_twitter_clicks',\n",
    "   'paid_facebook_instagram_video_clicks',\n",
    "   'paid_facebook_instagram_post_clicks', 'itunes_downloads',\n",
    "   'capitalfm_com_impressions','capitalfm_com_clicks', \n",
    "   'loopme_impressions', 'loopme_clicks',\n",
    "   'jet_capital_impacts', 'jet_kiss_impacts', 'jet_heart_impacts']\n",
    "column_spotify = ['artist_id', 'trend', 'track_id', 'paid_youtube_impressions',\n",
    "   'paid_youtube_views', 'paid_facebook_clicks',\n",
    "   'paid_facebook_impressions', 'paid_twitter_impressions',\n",
    "   'paid_facebook_video', 'paid_facebook_instagram_video_impressions',\n",
    "   'paid_facebook_instagram_post_impressions', 'paid_twitter_clicks',\n",
    "   'paid_facebook_instagram_video_clicks',\n",
    "   'paid_facebook_instagram_post_clicks', 'spotify_streams',\n",
    "   'capitalfm_com_impressions','capitalfm_com_clicks', \n",
    "   'loopme_impressions', 'loopme_clicks',\n",
    "   'jet_capital_impacts', 'jet_kiss_impacts', 'jet_heart_impacts']\n",
    "col = ['paid_youtube_impressions',\n",
    "   'paid_youtube_views', 'paid_facebook_clicks',\n",
    "   'paid_facebook_impressions', 'paid_twitter_impressions',\n",
    "   'paid_facebook_video', 'paid_facebook_instagram_video_impressions',\n",
    "   'paid_facebook_instagram_post_impressions', 'paid_twitter_clicks',\n",
    "   'paid_facebook_instagram_video_clicks',\n",
    "   'paid_facebook_instagram_post_clicks',\n",
    "   'capitalfm_com_impressions','capitalfm_com_clicks', \n",
    "   'loopme_impressions', 'loopme_clicks',\n",
    "   'jet_capital_impacts', 'jet_kiss_impacts', 'jet_heart_impacts']\n"
   ]
  },
  {
   "cell_type": "code",
   "execution_count": 3,
   "metadata": {
    "collapsed": true
   },
   "outputs": [
    {
     "name": "stderr",
     "output_type": "stream",
     "text": [
      "/home/paperspace/anaconda3/lib/python3.6/site-packages/pandas/core/frame.py:2352: SettingWithCopyWarning: \n",
      "A value is trying to be set on a copy of a slice from a DataFrame.\n",
      "Try using .loc[row_indexer,col_indexer] = value instead\n",
      "\n",
      "See the caveats in the documentation: http://pandas.pydata.org/pandas-docs/stable/indexing.html#indexing-view-versus-copy\n",
      "  self[k1] = value[k2]\n",
      "/home/paperspace/anaconda3/lib/python3.6/site-packages/pandas/core/groupby.py:707: FutureWarning: pd.rolling_mean is deprecated for Series and will be removed in a future version, replace with \n",
      "\tSeries.rolling(window=1,min_periods=1,center=False).mean()\n",
      "  return func(g, *args, **kwargs)\n",
      "/home/paperspace/anaconda3/lib/python3.6/site-packages/ipykernel_launcher.py:4: SettingWithCopyWarning: \n",
      "A value is trying to be set on a copy of a slice from a DataFrame.\n",
      "Try using .loc[row_indexer,col_indexer] = value instead\n",
      "\n",
      "See the caveats in the documentation: http://pandas.pydata.org/pandas-docs/stable/indexing.html#indexing-view-versus-copy\n",
      "  after removing the cwd from sys.path.\n",
      "/home/paperspace/anaconda3/lib/python3.6/site-packages/ipykernel_launcher.py:5: SettingWithCopyWarning: \n",
      "A value is trying to be set on a copy of a slice from a DataFrame.\n",
      "Try using .loc[row_indexer,col_indexer] = value instead\n",
      "\n",
      "See the caveats in the documentation: http://pandas.pydata.org/pandas-docs/stable/indexing.html#indexing-view-versus-copy\n",
      "  \"\"\"\n",
      "/home/paperspace/anaconda3/lib/python3.6/site-packages/pandas/core/groupby.py:707: FutureWarning: pd.rolling_mean is deprecated for Series and will be removed in a future version, replace with \n",
      "\tSeries.rolling(window=2,min_periods=1,center=False).mean()\n",
      "  return func(g, *args, **kwargs)\n",
      "/home/paperspace/anaconda3/lib/python3.6/site-packages/ipykernel_launcher.py:6: SettingWithCopyWarning: \n",
      "A value is trying to be set on a copy of a slice from a DataFrame.\n",
      "Try using .loc[row_indexer,col_indexer] = value instead\n",
      "\n",
      "See the caveats in the documentation: http://pandas.pydata.org/pandas-docs/stable/indexing.html#indexing-view-versus-copy\n",
      "  \n",
      "/home/paperspace/anaconda3/lib/python3.6/site-packages/ipykernel_launcher.py:7: SettingWithCopyWarning: \n",
      "A value is trying to be set on a copy of a slice from a DataFrame.\n",
      "Try using .loc[row_indexer,col_indexer] = value instead\n",
      "\n",
      "See the caveats in the documentation: http://pandas.pydata.org/pandas-docs/stable/indexing.html#indexing-view-versus-copy\n",
      "  import sys\n",
      "/home/paperspace/anaconda3/lib/python3.6/site-packages/pandas/core/groupby.py:707: FutureWarning: pd.rolling_std is deprecated for Series and will be removed in a future version, replace with \n",
      "\tSeries.rolling(window=2,min_periods=1,center=False).std()\n",
      "  return func(g, *args, **kwargs)\n",
      "/home/paperspace/anaconda3/lib/python3.6/site-packages/ipykernel_launcher.py:8: SettingWithCopyWarning: \n",
      "A value is trying to be set on a copy of a slice from a DataFrame.\n",
      "Try using .loc[row_indexer,col_indexer] = value instead\n",
      "\n",
      "See the caveats in the documentation: http://pandas.pydata.org/pandas-docs/stable/indexing.html#indexing-view-versus-copy\n",
      "  \n",
      "/home/paperspace/anaconda3/lib/python3.6/site-packages/ipykernel_launcher.py:9: SettingWithCopyWarning: \n",
      "A value is trying to be set on a copy of a slice from a DataFrame.\n",
      "Try using .loc[row_indexer,col_indexer] = value instead\n",
      "\n",
      "See the caveats in the documentation: http://pandas.pydata.org/pandas-docs/stable/indexing.html#indexing-view-versus-copy\n",
      "  if __name__ == '__main__':\n"
     ]
    }
   ],
   "source": [
    "df_spotify = df_read[column_spotify]\n",
    "\n",
    "df_spotify[col] = df_spotify[col].apply(lambda x:mm(x))\n",
    "df_spotify['ma']= df_spotify.groupby('track_id')['spotify_streams'].apply(pd.rolling_mean,1, min_periods=1)\n",
    "df_spotify['ma'] =df_spotify.groupby('track_id')['ma'].shift(1)\n",
    "df_spotify['ma1']= df_spotify.groupby('track_id')['spotify_streams'].apply(pd.rolling_mean,2, min_periods=1)\n",
    "df_spotify['ma1'] =df_spotify.groupby('track_id')['ma1'].shift(1)\n",
    "df_spotify['std'] = df_spotify.groupby('track_id')['spotify_streams'].apply(pd.rolling_std,2, min_periods=1)\n",
    "df_spotify['std'] = df_spotify.groupby('track_id')['std'].shift(1)\n",
    "csv_spotify = df_spotify[['artist_id','track_id','trend','ma','ma1','std']]\n",
    "csv_spotify = csv_spotify.fillna(0)"
   ]
  },
  {
   "cell_type": "code",
   "execution_count": 4,
   "metadata": {
    "collapsed": true
   },
   "outputs": [],
   "source": [
    "d_spotify = pd.DataFrame(csv_spotify)\n",
    "filename = 'CSV/artist_model_spotify.csv'\n",
    "d_spotify.to_csv(filename, index=False, encoding='utf-8')\n",
    "#df_spotify = df_spotify[df_spotify['spotify_streams'] > 10]\n",
    "#df_spotify = df_spotify[df_spotify['spotify_streams'] < 4524003]\n",
    "d1_spotify = df_spotify[df_spotify['spotify_streams'] > 0]\n",
    "d1_spotify = d1_spotify[d1_spotify['spotify_streams'] < 4524003]\n",
    "d1_spotify = d1_spotify.reset_index(drop=True)\n",
    "d1_spotify = d1_spotify[pd.notnull(d1_spotify['spotify_streams'])]\n",
    "df1_spotify=d1_spotify.fillna(0)\n",
    "\n",
    "df1_spotify.drop(['track_id'],axis=1,inplace = True)\n",
    "#df1_spotify.drop(['artist_id'],axis=1,inplace = True)\n",
    "df1_spotify['artist_id'] = df1_spotify['artist_id'].astype('category')\n",
    "#df1_spotify['track_id'] = df1_spotify['track_id'].astype('category')"
   ]
  },
  {
   "cell_type": "code",
   "execution_count": 5,
   "metadata": {
    "collapsed": true
   },
   "outputs": [],
   "source": [
    "df2_spotify = pd.get_dummies(df1_spotify, dummy_na=True)\n",
    "df3_spotify=df2_spotify\n",
    "df3_spotify=pd.DataFrame.sort_index(df3_spotify,axis=1)\n",
    "Y_train_spotify = df3_spotify['spotify_streams']\n",
    "X_train_spotify = df3_spotify.drop('spotify_streams',axis=1)\n",
    "\n"
   ]
  },
  {
   "cell_type": "code",
   "execution_count": 6,
   "metadata": {},
   "outputs": [
    {
     "data": {
      "text/plain": [
       "['models/artist-model-spotify-col.pkl']"
      ]
     },
     "execution_count": 6,
     "metadata": {},
     "output_type": "execute_result"
    }
   ],
   "source": [
    "T_train_xgb = xgb.DMatrix(X_train_spotify, Y_train_spotify)\n",
    "\n",
    "keys =[X_train_spotify.columns.get_loc(c) for c in X_train_spotify.columns if c in col]\n",
    "feature_monotones = [0] * (len(X_train_spotify.columns) - len (keys))\n",
    "for key in keys :\n",
    "    feature_monotones.insert(key-1,1)\n",
    "monotone_constraints = '(' + ','.join([str(m) for m in feature_monotones]) + ')'\n",
    "\n",
    "\n",
    "params = {\"objective\": \"reg:linear\",\n",
    "    \"eta\": 0.05,\"max_depth\" : 10,\n",
    "   \"subsample\" : 0.8,\"colsample_bytree\" : 0.8,\n",
    "  \"eval_metric\" : \"rmse\",\"nthread\" : 100,\"silent\":1,'gamma':0, 'lambda':0.01,\n",
    "  'min_child_weight':50,'monotone_constraints':monotone_constraints}\n",
    "\n",
    "#bst_cv = xgb.cv(params, T_train_xgb, 500, nfold = 5, early_stopping_rounds=10,seed = 101)\n",
    "gbm = xgb.train(params, T_train_xgb, num_boost_round = 500)\n",
    "\n",
    "joblib.dump(gbm, 'models/artist-reg-spotify.pkl')\n",
    "\n",
    "model_columns = X_train_spotify.columns\n",
    "joblib.dump(model_columns, 'models/artist-model-spotify-col.pkl')"
   ]
  },
  {
   "cell_type": "code",
   "execution_count": null,
   "metadata": {
    "scrolled": true
   },
   "outputs": [
    {
     "name": "stdout",
     "output_type": "stream",
     "text": [
      " * Running on http://127.0.0.1:8080/ (Press CTRL+C to quit)\n",
      "127.0.0.1 - - [07/Mar/2018 06:00:47] \"POST /const HTTP/1.1\" 200 -\n"
     ]
    }
   ],
   "source": [
    "!python plan-api.py"
   ]
  },
  {
   "cell_type": "code",
   "execution_count": null,
   "metadata": {
    "collapsed": true
   },
   "outputs": [],
   "source": []
  }
 ],
 "metadata": {
  "kernelspec": {
   "display_name": "Python 3",
   "language": "python",
   "name": "python3"
  },
  "language_info": {
   "codemirror_mode": {
    "name": "ipython",
    "version": 3
   },
   "file_extension": ".py",
   "mimetype": "text/x-python",
   "name": "python",
   "nbconvert_exporter": "python",
   "pygments_lexer": "ipython3",
   "version": "3.6.3"
  }
 },
 "nbformat": 4,
 "nbformat_minor": 2
}
